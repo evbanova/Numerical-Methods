{
 "cells": [
  {
   "cell_type": "code",
   "execution_count": 42,
   "id": "869ba4ee-f842-4c25-b406-f79da8a5e8f9",
   "metadata": {},
   "outputs": [],
   "source": [
    "import numpy as np\n",
    "import matplotlib.pyplot as plt\n",
    "from sympy import symbols, diff, integrate, Eq, solve, sin, cos, exp"
   ]
  },
  {
   "cell_type": "code",
   "execution_count": 43,
   "id": "1288b896-5a8f-40fd-8002-6adc769fd4f4",
   "metadata": {},
   "outputs": [
    {
     "name": "stdout",
     "output_type": "stream",
     "text": [
      "1.9629727607543528\n",
      "1.93342149620071\n"
     ]
    }
   ],
   "source": [
    "#zad 1\n",
    "x = symbols('x')\n",
    "x1 = - np.sqrt(1/3)\n",
    "x2 = np.sqrt(1/3)\n",
    "A1 = 1\n",
    "A2 = 1\n",
    "\n",
    "def f(x):\n",
    "    return np.exp(x) * np.cos(x)\n",
    "\n",
    "I = A1 * f(x1) + A2 * f(x2)\n",
    "print(I)\n",
    "\n",
    "def sympyf(x):\n",
    "    return exp(x) * cos(x)\n",
    "    \n",
    "t = symbols('t')\n",
    "exact_val = (integrate(sympyf(t), (t, -1, 1))).evalf()\n",
    "print(exact_val)"
   ]
  },
  {
   "cell_type": "code",
   "execution_count": null,
   "id": "e72faa0d-ff59-4d91-99a0-7072a8454d33",
   "metadata": {},
   "outputs": [],
   "source": [
    "# АСТ на тази формула е 3. Използваме за изчисление от дефиницията, че АСТ е 2*н - 1, където н е броя на възлите,\n",
    "#Тук възлите са 2, тоест имаме 2*2 - 1 = 3\n",
    "#Ако трябваше сами да изведем коефициентите щяхме да използваме базис 1, х, х**2, х**3 - тоест 4 уравнения за 4те ни неизвестни\n",
    "#Това е защото във формулата на Гаус-Льожандър възлите са корени на полином от пи4 и са ортогонални на всички полиноми от пи4-1=пи3"
   ]
  },
  {
   "cell_type": "code",
   "execution_count": 46,
   "id": "66bcc091-4f44-466a-a05a-f33d6c82aac3",
   "metadata": {},
   "outputs": [
    {
     "data": {
      "image/png": "[encoded data removed]",
      "text/plain": [
       "<Figure size 640x480 with 1 Axes>"
      ]
     },
     "metadata": {},
     "output_type": "display_data"
    }
   ],
   "source": [
    "#zad2\n",
    "\n",
    "_x = np.array([1, 1.5, 2, 3, 3.5, 4, 5, 8])\n",
    "_y = np.array([2.2, 2.5, 3.2, 3.6, 4.1, 4.5, 4.5, 6])\n",
    "a, b, c, x = symbols('a b c x')\n",
    "\n",
    "def f(a, b, c, x):\n",
    "    return a + b*x + c/x\n",
    "\n",
    "def F(a, b, c):\n",
    "    sum = 0\n",
    "    for i in range(_x.size):\n",
    "        sum += (f(a, b, c, _x[i]) - _y[i])**2\n",
    "    return sum\n",
    "\n",
    "eq = [Eq(diff(F(a, b, c), a), 0), Eq(diff(F(a, b, c), b), 0), Eq(diff(F(a, b, c), c), 0)]\n",
    "sol = solve(eq)\n",
    "\n",
    "def func(x):\n",
    "    return sol[a] + sol[b]*x + sol[c]/x\n",
    "\n",
    "plt.scatter(_x, _y)\n",
    "x_axis = np.linspace(_x[0], _x[_x.size-1], 1000)\n",
    "plt.plot(x_axis, func(x_axis), color='violet')\n",
    "plt.show()"
   ]
  },
  {
   "cell_type": "code",
   "execution_count": 49,
   "id": "b3299a65-973f-405b-b634-61ad70d0a920",
   "metadata": {},
   "outputs": [
    {
     "name": "stdout",
     "output_type": "stream",
     "text": [
      "1.2971800426189894\n",
      "1.29717823125615\n"
     ]
    }
   ],
   "source": [
    "#zad3\n",
    "#на листа е изчислението за н\n",
    "\n",
    "n = 11\n",
    "a = 1\n",
    "b = 3\n",
    "\n",
    "_x = np.linspace(a, b, n + 1)\n",
    "\n",
    "def f(x):\n",
    "    return np.sin(x)**2\n",
    "\n",
    "I = 0\n",
    "for i in range(1, n+1):\n",
    "    I += f(_x[i]) + f(_x[i-1]) + 4*f((_x[i] + _x[i-1]) / 2)\n",
    "I *= (b - a) / (6 * n)\n",
    "\n",
    "print(I)\n",
    "\n",
    "def sympyf(x):\n",
    "    return sin(x)**2\n",
    "    \n",
    "t = symbols('t')\n",
    "exact_val = (integrate(sympyf(t), (t, a, b))).evalf()\n",
    "print(exact_val)"
   ]
  },
  {
   "cell_type": "code",
   "execution_count": null,
   "id": "505f3184-dc3d-4077-aef3-551c9fc6fe76",
   "metadata": {},
   "outputs": [],
   "source": []
  }
 ],
 "metadata": {
  "kernelspec": {
   "display_name": "Python 3 (ipykernel)",
   "language": "python",
   "name": "python3"
  },
  "language_info": {
   "codemirror_mode": {
    "name": "ipython",
    "version": 3
   },
   "file_extension": ".py",
   "mimetype": "text/x-python",
   "name": "python",
   "nbconvert_exporter": "python",
   "pygments_lexer": "ipython3",
   "version": "3.12.7"
  }
 },
 "nbformat": 4,
 "nbformat_minor": 5
}
