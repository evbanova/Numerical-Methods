{
 "cells": [
  {
   "cell_type": "code",
   "execution_count": 10,
   "id": "824e815b-e560-4806-907c-68371c76730c",
   "metadata": {},
   "outputs": [],
   "source": [
    "#zad1 i 2\n",
    "\n",
    "from sympy import symbols, integrate, solve, Eq\n",
    "\n",
    "A1, A2, x1, x2, x = symbols('A1 A2 x1 x2 x')\n",
    "\n",
    "eq1 = [Eq(A1 + A2, integrate(1, (x, -1, 1))), \n",
    "      Eq(A1*x1 + A2*x2, integrate(x, (x, -1, 1))), \n",
    "      Eq(A1*(x1**2) + A2*(x2**2), integrate(x**2, (x, -1, 1))), \n",
    "      Eq(A1*(x1**3) + A2*(x2**3), integrate(x**3, (x, -1, 1)))]\n",
    "\n",
    "solution1 = solve(eq1, A1, A2, x1, x2, dict=True)\n",
    "\n",
    "\n",
    "B1, B2, B3, t1, t2, t3 = symbols('B1, B2, B3, t1, t2, t3')\n",
    "\n",
    "eq2 = [Eq(B1 + B2 + B3, integrate(1, (x, -1, 1))),\n",
    "       Eq(B1*t1 + B2*t2 + B3*t3, integrate(x, (x, -1, 1))),\n",
    "       Eq(B1*(t1**2) + B2*(t2**2) + B3*(t3**2), integrate(x**2, (x, -1, 1))),\n",
    "       Eq(B1*(t1**3) + B2*(t2**3) + B3*(t3**3), integrate(x**3, (x, -1, 1))),\n",
    "       Eq(B1*(t1**4) + B2*(t2**4) + B3*(t3**4), integrate(x**4, (x, -1, 1))),\n",
    "       Eq(B1*(t1**5) + B2*(t2**5) + B3*(t3**5), integrate(x**5, (x, -1, 1)))]\n",
    "\n",
    "solution2 = solve(eq2, B1, B2, B3, t1, t2, t3, dict=True)"
   ]
  },
  {
   "cell_type": "code",
   "execution_count": 13,
   "id": "a22580b9-cca7-4130-bdd9-997808d9a7b1",
   "metadata": {},
   "outputs": [
    {
     "name": "stdout",
     "output_type": "stream",
     "text": [
      "B1\n"
     ]
    }
   ],
   "source": [
    "#zad3\n",
    "from sympy import symbols, integrate, solve, Eq\n",
    "\n",
    "A1, A2, x1, x2, x = symbols('A1 A2 x1 x2 x')\n",
    "\n",
    "eq1 = [Eq(A1 + A2, integrate(1, (x, 0, 0.8))), \n",
    "      Eq(A1*x1 + A2*x2, integrate(x, (x, 0, 0.8))), \n",
    "      Eq(A1*(x1**2) + A2*(x2**2), integrate(x**2, (x, 0, 0.8))), \n",
    "      Eq(A1*(x1**3) + A2*(x2**3), integrate(x**3, (x, 0, 0.8)))]\n",
    "\n",
    "solution1 = solve(eq1, A1, A2, x1, x2, dict=True)\n",
    "A1, A2, x1, x2 = solution1[0]\n",
    "\n",
    "B1, B2, B3, t1, t2, t3 = symbols('B1, B2, B3, t1, t2, t3')\n",
    "\n",
    "eq2 = [Eq(B1 + B2 + B3, integrate(1, (x, 0, 0.8))),\n",
    "       Eq(B1*t1 + B2*t2 + B3*t3, integrate(x, (x, 0, 0.8))),\n",
    "       Eq(B1*(t1**2) + B2*(t2**2) + B3*(t3**2), integrate(x**2, (x, 0, 0.8))),\n",
    "       Eq(B1*(t1**3) + B2*(t2**3) + B3*(t3**3), integrate(x**3, (x, 0, 0.8))),\n",
    "       Eq(B1*(t1**4) + B2*(t2**4) + B3*(t3**4), integrate(x**4, (x, 0, 0.8))),\n",
    "       Eq(B1*(t1**5) + B2*(t2**5) + B3*(t3**5), integrate(x**5, (x, 0, 0.8)))]\n",
    "\n",
    "solution2 = solve(eq2, B1, B2, B3, t1, t2, t3, dict=True)\n",
    "B1, B2, B3, t1, t2, t3 = solution2[0]\n",
    "\n",
    "print(B1)"
   ]
  },
  {
   "cell_type": "code",
   "execution_count": null,
   "id": "83902d60-0d6f-49d3-b11b-68fdc18ee1a2",
   "metadata": {},
   "outputs": [],
   "source": []
  }
 ],
 "metadata": {
  "kernelspec": {
   "display_name": "Python 3 (ipykernel)",
   "language": "python",
   "name": "python3"
  },
  "language_info": {
   "codemirror_mode": {
    "name": "ipython",
    "version": 3
   },
   "file_extension": ".py",
   "mimetype": "text/x-python",
   "name": "python",
   "nbconvert_exporter": "python",
   "pygments_lexer": "ipython3",
   "version": "3.12.7"
  }
 },
 "nbformat": 4,
 "nbformat_minor": 5
}
